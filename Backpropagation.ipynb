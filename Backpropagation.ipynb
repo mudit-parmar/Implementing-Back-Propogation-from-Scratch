{
 "cells": [
  {
   "cell_type": "markdown",
   "metadata": {
    "id": "fNz3CB-6TPrQ"
   },
   "source": [
    "# Question-4 : Backpropogation"
   ]
  },
  {
   "cell_type": "markdown",
   "metadata": {
    "id": "nQC2CC3HTPra"
   },
   "source": [
    "## Explanation for model structure and assumptions \n"
   ]
  },
  {
   "cell_type": "markdown",
   "metadata": {
    "id": "fd5JFmsuTPra"
   },
   "source": [
    "### Vectorized data :\n",
    "- The data has been converted to vector form in order to aid computation time \n",
    "\n",
    "\n",
    "### Train/Validation Split -\n",
    "- A ratio of 80:20 is chosen as it is widely considered a good starting point(adhering to pareto principle) and is performs well with the amount of data at hand\n",
    "\n",
    "\n",
    "### Number of hidden nodes -\n",
    "- A fair bit of number of nodes were tested with 40 giving the best results\n",
    "\n",
    "### Activation function : \n",
    "- In this implemetation of backpropagation non-linear function activation functions are chosen as chossing a linear function would be resundant as there will be no learning\n",
    "- For hidden layer sigmoid function is chosen\n",
    "- For connection between hidden and outplut layer softmax function is chosen\n",
    "- Justification- \n",
    "- Sigmoid function - \n",
    "\n",
    "- 1.This function is takes any input value but the output is always between 0 and 1 \n",
    "- 2. Chooosing sigmoid activation function can result in vanishing/ exploding gradient problem which is addressed in this implementation\n",
    "- 3. As this is a simple implemetation sigmoid function was chosen over other activation functions like ReLu\n",
    "\n",
    "- Softmax function - \n",
    "- 1.Softmax function converts inputs to values between 0 and 1 with the sum of all elements adding up to 1\n",
    "- 2. Softmax funcion is considered a standard for classification problems for output layer\n",
    "\n",
    "\n",
    "### Addressing vanishing gradient problem -\n",
    "- As we are using sigmoid function , vanishing gradient is a problem which needs to be tackled. For this purpose we use Xavier (Glorot) weight initialization scheme which adds a term to wights to keep them from vanishing/exploding.\n",
    "\n",
    "\n",
    "### Loss Function :\n",
    "- Cross entropy has been chosen as the choice of error function and cost as it is one of the most effective for classification problems\n",
    "- Cross entropy loss is the measure of  difference between discovered and the predicted distribution in a classification problem\n",
    "- Cross-entropy loss or takes the sum of negative logarithms of likelihood of each scenario"
   ]
  },
  {
   "cell_type": "markdown",
   "metadata": {
    "id": "jaHRAMhFTPrR"
   },
   "source": [
    "### Importing Libraries"
   ]
  },
  {
   "cell_type": "code",
   "execution_count": 1,
   "metadata": {
    "id": "Sk2jkEYRTPrS"
   },
   "outputs": [],
   "source": [
    "# importing required libraries \n",
    "import numpy as np\n",
    "import pandas as pd\n",
    "import matplotlib.pyplot as plt\n",
    "import pickle"
   ]
  },
  {
   "cell_type": "markdown",
   "metadata": {
    "id": "wFVvu_yiTPrT"
   },
   "source": [
    "### Read data from files"
   ]
  },
  {
   "cell_type": "code",
   "execution_count": 2,
   "metadata": {
    "id": "Ws3zgiS9TPrU"
   },
   "outputs": [],
   "source": [
    "# importing features and labels from files\n",
    "features = pd.read_csv(\"./train_data.csv\", header=None)\n",
    "labels = pd.read_csv(\"./train_labels.csv\", header=None)"
   ]
  },
  {
   "cell_type": "markdown",
   "metadata": {
    "id": "9ONYwKrKTPrV"
   },
   "source": [
    "### Dividing data into train and validation sets"
   ]
  },
  {
   "cell_type": "code",
   "execution_count": 3,
   "metadata": {
    "id": "LZ-P1ftWTPrW"
   },
   "outputs": [],
   "source": [
    "# splitting the data into training and validation in the ratio 80:20\n",
    "split = 0.2\n",
    "row_x,col_x = features.shape\n",
    "row_y,col_y = labels.shape\n",
    "train_data = features.iloc[int(row_x*split):,:]\n",
    "train_labels = labels.iloc[int(row_y*split):,:]\n",
    "val_data = features.iloc[0:int(row_x*split),:]\n",
    "val_labels = labels.iloc[0:int(row_y*split),:]"
   ]
  },
  {
   "cell_type": "code",
   "execution_count": 4,
   "metadata": {
    "id": "LpCYfG1AWPdT"
   },
   "outputs": [],
   "source": [
    "# displaying the resulting shapes of datasets (train and validation) after split"
   ]
  },
  {
   "cell_type": "code",
   "execution_count": 5,
   "metadata": {
    "colab": {
     "base_uri": "https://localhost:8080/"
    },
    "id": "X90wD3YATPrX",
    "outputId": "d1442790-1f62-4ec2-80db-4794146d6433"
   },
   "outputs": [
    {
     "data": {
      "text/plain": [
       "(784, 19804)"
      ]
     },
     "execution_count": 5,
     "metadata": {},
     "output_type": "execute_result"
    }
   ],
   "source": [
    "train_data = np.array(train_data.T)\n",
    "train_data.shape\n"
   ]
  },
  {
   "cell_type": "code",
   "execution_count": 6,
   "metadata": {
    "colab": {
     "base_uri": "https://localhost:8080/"
    },
    "id": "PSXr-DBhTPrY",
    "outputId": "f0369cc3-7d38-4423-9363-8307f3ae6f23"
   },
   "outputs": [
    {
     "data": {
      "text/plain": [
       "(4, 19804)"
      ]
     },
     "execution_count": 6,
     "metadata": {},
     "output_type": "execute_result"
    }
   ],
   "source": [
    "train_labels = np.array(train_labels.T)\n",
    "train_labels.shape"
   ]
  },
  {
   "cell_type": "code",
   "execution_count": 7,
   "metadata": {
    "colab": {
     "base_uri": "https://localhost:8080/"
    },
    "id": "FfRASlZbcHhf",
    "outputId": "f68c008d-6149-464f-fada-18f36b134406"
   },
   "outputs": [
    {
     "data": {
      "text/plain": [
       "(784, 4950)"
      ]
     },
     "execution_count": 7,
     "metadata": {},
     "output_type": "execute_result"
    }
   ],
   "source": [
    "val_data = np.array(val_data.T)\n",
    "val_data.shape"
   ]
  },
  {
   "cell_type": "code",
   "execution_count": 8,
   "metadata": {
    "colab": {
     "base_uri": "https://localhost:8080/"
    },
    "id": "-sNQwArLcJTS",
    "outputId": "53e9b79e-1567-4047-d795-1e6a82ecfcd3"
   },
   "outputs": [
    {
     "data": {
      "text/plain": [
       "(4, 4950)"
      ]
     },
     "execution_count": 8,
     "metadata": {},
     "output_type": "execute_result"
    }
   ],
   "source": [
    "val_labels = np.array(val_labels.T)\n",
    "val_labels.shape"
   ]
  },
  {
   "cell_type": "markdown",
   "metadata": {
    "id": "NSKIgK59TPrc"
   },
   "source": []
  },
  {
   "cell_type": "code",
   "execution_count": 9,
   "metadata": {
    "id": "VtSpbVasTPrd"
   },
   "outputs": [],
   "source": [
    "# Initializing parametes - weights and biases aas well as shuffling them\n",
    "# initial biases are taken as 0\n",
    "\n",
    "def define_parameters(inp_nodes, hidden_nodes, out_nodes):\n",
    "    \n",
    "    \n",
    "    initial_Weight1=np.random.randn(hidden_nodes, inp_nodes) * np.sqrt(1/(inp_nodes))\n",
    "    initial_bias1=np.zeros((hidden_nodes, 1))\n",
    "    initial_Weight2=np.random.randn(out_nodes, hidden_nodes) * np.sqrt(1/(hidden_nodes))\n",
    "    initial_bias2=np.zeros((out_nodes, 1))\n",
    "    \n",
    "    params = {\"Weight1\": initial_Weight1,\n",
    "                \"bias1\": initial_bias1,\n",
    "                \"Weight2\": initial_Weight2,\n",
    "                \"bias2\": initial_bias2 }\n",
    "    \n",
    "    return params"
   ]
  },
  {
   "cell_type": "markdown",
   "metadata": {
    "id": "swytm_AoTPre"
   },
   "source": [
    "The issue of vanishing gradient is addressed by using Xavier weight initialization wherein random wights were multiplied by square root of ( 1/ number of input connections to that layer ) "
   ]
  },
  {
   "cell_type": "code",
   "execution_count": 10,
   "metadata": {
    "id": "l11ipzlyTPrf"
   },
   "outputs": [],
   "source": [
    "# activation function\n",
    "def sigmoid(x):\n",
    "    return 1/(1+np.exp(-x))"
   ]
  },
  {
   "cell_type": "code",
   "execution_count": 11,
   "metadata": {
    "id": "kmo6EddmTPrf"
   },
   "outputs": [],
   "source": [
    "# activation function for output layer\n",
    "def softmax(A):\n",
    "    expA = np.exp(A)\n",
    "    return expA / expA.sum(axis=0, keepdims=True)"
   ]
  },
  {
   "cell_type": "code",
   "execution_count": 12,
   "metadata": {
    "id": "qQAtjWwvTPrg"
   },
   "outputs": [],
   "source": [
    "# Function for forward propagation ( containing dot product and activation function)\n",
    "\n",
    "def forw_prop(X, params):\n",
    "\n",
    "    Z1= np.dot(params[\"Weight1\"],X) + params[\"bias1\"] \n",
    "    Activ_func1= sigmoid(Z1)\n",
    "    Z2= np.dot(params[\"Weight2\"],Activ_func1) + params[\"bias2\"]\n",
    "    Activ_func2= softmax(Z2)\n",
    "    \n",
    "    deravatives = {\"Z1\": Z1,\n",
    "            \"Activ_func1\": Activ_func1,\n",
    "            \"Z2\": Z2,\n",
    "            \"Activ_func2\": Activ_func2 }\n",
    "    \n",
    "    return deravatives"
   ]
  },
  {
   "cell_type": "code",
   "execution_count": 13,
   "metadata": {
    "id": "g_vdGzn9TPrg"
   },
   "outputs": [],
   "source": [
    "# Function for cross entropy calculating the loss/ cost for the run with formula - F(X) = – sum x in X G(x) * log(G(x))\n",
    "\n",
    "def cross_entropy(Activ_func2, Y):\n",
    "    m = Y.shape[1]\n",
    "    loss = (1/m)*np.sum(-Y * np.log(Activ_func2))\n",
    "    return loss"
   ]
  },
  {
   "cell_type": "code",
   "execution_count": 14,
   "metadata": {
    "id": "5aeiIu7BTPrh"
   },
   "outputs": [],
   "source": [
    "# Function for back propagation (calculating wights and bias derivative and performing dot product)\n",
    "\n",
    "def back_prop(params, deravatives, X, Y):  \n",
    "    \n",
    "    deri2 = (1/X.shape[1]) * np.subtract(deravatives[\"Activ_func2\"],Y) \n",
    "    dWeight2 = np.dot(deri2,deravatives[\"Activ_func1\"].T)  \n",
    "    dbias2 = np.sum(deri2, axis=1, keepdims=True)\n",
    "    deri1 = (np.dot(params[\"Weight2\"].T,deri2))*(deravatives[\"Activ_func1\"] - np.power(deravatives[\"Activ_func1\"], 2)) \n",
    "    dWeight1 = np.dot(deri1,X.T)\n",
    "    dbias1 = np.sum(deri1,axis=1, keepdims=True)\n",
    "    \n",
    "\n",
    "    gradients = {\"dWeight1\": dWeight1,\n",
    "    \"dbias1\": dbias1,\n",
    "    \"dWeight2\": dWeight2,\n",
    "    \"dbias2\": dbias2 }\n",
    "    \n",
    "    return gradients"
   ]
  },
  {
   "cell_type": "code",
   "execution_count": 15,
   "metadata": {
    "id": "5tKJ89bgTPrh"
   },
   "outputs": [],
   "source": [
    "# Function to update the values (weights and biases) after back propagation run\n",
    "\n",
    "def updating_values(params, gradients, learning_rate = 0.05):\n",
    "\n",
    "    Weight1= params[\"Weight1\"] - (learning_rate*gradients[\"dWeight1\"])\n",
    "    bias1= params[\"bias1\"] - (learning_rate*gradients[\"dbias1\"])\n",
    "    Weight2= params[\"Weight2\"] - (learning_rate*gradients[\"dWeight2\"])\n",
    "    bias2= params[\"bias2\"] - (learning_rate*gradients[\"dbias2\"])\n",
    "    \n",
    "    params = {\"Weight1\": Weight1,\n",
    "    \"bias1\": bias1,\n",
    "    \"Weight2\": Weight2,\n",
    "    \"bias2\": bias2 }\n",
    "    \n",
    "    return params"
   ]
  },
  {
   "cell_type": "markdown",
   "metadata": {
    "id": "WhMKMFkGTPri"
   },
   "source": [
    "0.05 was chosen as the learning rate after a number of trial runs and plottig them against loss"
   ]
  },
  {
   "cell_type": "markdown",
   "metadata": {
    "id": "0lBzeXQSTPri"
   },
   "source": [
    "### calculating and displaying results"
   ]
  },
  {
   "cell_type": "code",
   "execution_count": 16,
   "metadata": {
    "id": "jhSIAW62TPrj"
   },
   "outputs": [],
   "source": [
    "# Converting to one-hot encodings for final predicted output\n",
    "def encode(y):   \n",
    "    li = list()\n",
    "    for i in y:\n",
    "        temp = [0, 0, 0, 0]\n",
    "        temp[i] = 1\n",
    "        li.append(temp)\n",
    "        \n",
    "    return np.array(li)"
   ]
  },
  {
   "cell_type": "markdown",
   "metadata": {
    "id": "HCb45KtlTPrj"
   },
   "source": [
    "### Importing file acc_calc in order to calculate accuracy"
   ]
  },
  {
   "cell_type": "code",
   "execution_count": 17,
   "metadata": {
    "id": "_6w_GEYNTPrj"
   },
   "outputs": [],
   "source": [
    "from acc_calc import accuracy"
   ]
  },
  {
   "cell_type": "markdown",
   "metadata": {
    "id": "LeY-h9xkTPrk"
   },
   "source": [
    "## Main function "
   ]
  },
  {
   "cell_type": "code",
   "execution_count": 18,
   "metadata": {
    "id": "LtiqGrg-TPrk"
   },
   "outputs": [],
   "source": [
    "# Initializing and calling all the functions described above \n",
    "\n",
    "def model(X, Y, n_h, num_iterations = 10000):\n",
    "    # initializing hyperparameters\n",
    "    \n",
    "    n_x = X.shape[0]\n",
    "    n_y = Y.shape[0]\n",
    "    n_h=n_h\n",
    "    \n",
    "    parameters = define_parameters(n_x, n_h, n_y)\n",
    "    accuracy_matrix = []\n",
    "    loss_matrix = []\n",
    "    \n",
    "    # looping over iterations in a cycle of forward propagation - result - backward propagation - updating weights and bias and lastly predictions and accuracy\n",
    "    for i in range(0, num_iterations+1):\n",
    "        deravatives = forw_prop(X, parameters)\n",
    "        loss = cross_entropy(deravatives[\"Activ_func2\"], Y)\n",
    "        grads = back_prop(parameters, deravatives, X, Y)\n",
    "        parameters = updating_values(parameters, grads)\n",
    "        deravatives = forw_prop(val_data, parameters)\n",
    "        predictions = np.argmax(deravatives[\"Activ_func2\"], axis=0)\n",
    "        preds = encode(predictions)\n",
    "        accuracy_val = accuracy(val_labels.T, preds)\n",
    "        accuracy_matrix.append(accuracy_val)\n",
    "        loss_matrix.append(loss)\n",
    "        print(\"Accuracy after iteration %i: %f\" %(i, accuracy_val)) \n",
    "        print (\"Cost after iteration %i: %f\" %(i, loss))\n",
    "        \n",
    "        \n",
    "    return parameters, accuracy_matrix, loss_matrix"
   ]
  },
  {
   "cell_type": "code",
   "execution_count": 19,
   "metadata": {
    "colab": {
     "base_uri": "https://localhost:8080/"
    },
    "id": "4rOaXsUVTPrk",
    "outputId": "b2b17ad5-40aa-4e69-9625-2e8805e2be6a",
    "scrolled": true
   },
   "outputs": [
    {
     "name": "stdout",
     "output_type": "stream",
     "text": [
      "Accuracy after iteration 0: 0.332727\n",
      "Cost after iteration 0: 1.404306\n",
      "Accuracy after iteration 1: 0.349697\n",
      "Cost after iteration 1: 1.394664\n",
      "Accuracy after iteration 2: 0.365051\n",
      "Cost after iteration 2: 1.385411\n",
      "Accuracy after iteration 3: 0.382626\n",
      "Cost after iteration 3: 1.376448\n",
      "Accuracy after iteration 4: 0.400606\n",
      "Cost after iteration 4: 1.367706\n",
      "Accuracy after iteration 5: 0.435556\n",
      "Cost after iteration 5: 1.359136\n",
      "Accuracy after iteration 6: 0.475960\n",
      "Cost after iteration 6: 1.350705\n",
      "Accuracy after iteration 7: 0.521414\n",
      "Cost after iteration 7: 1.342388\n",
      "Accuracy after iteration 8: 0.571313\n",
      "Cost after iteration 8: 1.334168\n",
      "Accuracy after iteration 9: 0.602222\n",
      "Cost after iteration 9: 1.326033\n",
      "Accuracy after iteration 10: 0.637172\n",
      "Cost after iteration 10: 1.317972\n",
      "Accuracy after iteration 11: 0.662222\n",
      "Cost after iteration 11: 1.309978\n",
      "Accuracy after iteration 12: 0.685859\n",
      "Cost after iteration 12: 1.302045\n",
      "Accuracy after iteration 13: 0.702828\n",
      "Cost after iteration 13: 1.294168\n",
      "Accuracy after iteration 14: 0.719192\n",
      "Cost after iteration 14: 1.286343\n",
      "Accuracy after iteration 15: 0.733939\n",
      "Cost after iteration 15: 1.278566\n",
      "Accuracy after iteration 16: 0.745051\n",
      "Cost after iteration 16: 1.270836\n",
      "Accuracy after iteration 17: 0.754343\n",
      "Cost after iteration 17: 1.263148\n",
      "Accuracy after iteration 18: 0.765657\n",
      "Cost after iteration 18: 1.255500\n",
      "Accuracy after iteration 19: 0.773333\n",
      "Cost after iteration 19: 1.247891\n",
      "Accuracy after iteration 20: 0.782222\n",
      "Cost after iteration 20: 1.240318\n",
      "Accuracy after iteration 21: 0.788889\n",
      "Cost after iteration 21: 1.232779\n",
      "Accuracy after iteration 22: 0.795556\n",
      "Cost after iteration 22: 1.225273\n",
      "Accuracy after iteration 23: 0.801616\n",
      "Cost after iteration 23: 1.217799\n",
      "Accuracy after iteration 24: 0.808687\n",
      "Cost after iteration 24: 1.210354\n",
      "Accuracy after iteration 25: 0.814747\n",
      "Cost after iteration 25: 1.202937\n",
      "Accuracy after iteration 26: 0.817576\n",
      "Cost after iteration 26: 1.195549\n",
      "Accuracy after iteration 27: 0.822626\n",
      "Cost after iteration 27: 1.188186\n",
      "Accuracy after iteration 28: 0.827273\n",
      "Cost after iteration 28: 1.180849\n",
      "Accuracy after iteration 29: 0.829697\n",
      "Cost after iteration 29: 1.173537\n",
      "Accuracy after iteration 30: 0.833131\n",
      "Cost after iteration 30: 1.166249\n",
      "Accuracy after iteration 31: 0.835152\n",
      "Cost after iteration 31: 1.158984\n",
      "Accuracy after iteration 32: 0.837980\n",
      "Cost after iteration 32: 1.151742\n",
      "Accuracy after iteration 33: 0.841414\n",
      "Cost after iteration 33: 1.144523\n",
      "Accuracy after iteration 34: 0.844848\n",
      "Cost after iteration 34: 1.137325\n",
      "Accuracy after iteration 35: 0.847879\n",
      "Cost after iteration 35: 1.130150\n",
      "Accuracy after iteration 36: 0.849091\n",
      "Cost after iteration 36: 1.122996\n",
      "Accuracy after iteration 37: 0.851111\n",
      "Cost after iteration 37: 1.115864\n",
      "Accuracy after iteration 38: 0.853737\n",
      "Cost after iteration 38: 1.108753\n",
      "Accuracy after iteration 39: 0.855960\n",
      "Cost after iteration 39: 1.101664\n",
      "Accuracy after iteration 40: 0.857980\n",
      "Cost after iteration 40: 1.094597\n",
      "Accuracy after iteration 41: 0.859798\n",
      "Cost after iteration 41: 1.087552\n",
      "Accuracy after iteration 42: 0.861414\n",
      "Cost after iteration 42: 1.080529\n",
      "Accuracy after iteration 43: 0.862626\n",
      "Cost after iteration 43: 1.073528\n",
      "Accuracy after iteration 44: 0.864040\n",
      "Cost after iteration 44: 1.066549\n",
      "Accuracy after iteration 45: 0.866263\n",
      "Cost after iteration 45: 1.059594\n",
      "Accuracy after iteration 46: 0.867677\n",
      "Cost after iteration 46: 1.052663\n",
      "Accuracy after iteration 47: 0.869495\n",
      "Cost after iteration 47: 1.045755\n",
      "Accuracy after iteration 48: 0.870909\n",
      "Cost after iteration 48: 1.038871\n",
      "Accuracy after iteration 49: 0.872525\n",
      "Cost after iteration 49: 1.032012\n",
      "Accuracy after iteration 50: 0.873737\n",
      "Cost after iteration 50: 1.025179\n",
      "Accuracy after iteration 51: 0.874949\n",
      "Cost after iteration 51: 1.018371\n",
      "Accuracy after iteration 52: 0.876162\n",
      "Cost after iteration 52: 1.011590\n",
      "Accuracy after iteration 53: 0.877576\n",
      "Cost after iteration 53: 1.004836\n",
      "Accuracy after iteration 54: 0.879192\n",
      "Cost after iteration 54: 0.998109\n",
      "Accuracy after iteration 55: 0.880404\n",
      "Cost after iteration 55: 0.991411\n",
      "Accuracy after iteration 56: 0.880606\n",
      "Cost after iteration 56: 0.984741\n",
      "Accuracy after iteration 57: 0.881414\n",
      "Cost after iteration 57: 0.978100\n",
      "Accuracy after iteration 58: 0.881818\n",
      "Cost after iteration 58: 0.971490\n",
      "Accuracy after iteration 59: 0.882222\n",
      "Cost after iteration 59: 0.964910\n",
      "Accuracy after iteration 60: 0.883030\n",
      "Cost after iteration 60: 0.958361\n",
      "Accuracy after iteration 61: 0.883838\n",
      "Cost after iteration 61: 0.951844\n",
      "Accuracy after iteration 62: 0.885455\n",
      "Cost after iteration 62: 0.945359\n",
      "Accuracy after iteration 63: 0.887071\n",
      "Cost after iteration 63: 0.938907\n",
      "Accuracy after iteration 64: 0.888081\n",
      "Cost after iteration 64: 0.932488\n",
      "Accuracy after iteration 65: 0.888889\n",
      "Cost after iteration 65: 0.926103\n",
      "Accuracy after iteration 66: 0.889293\n",
      "Cost after iteration 66: 0.919753\n",
      "Accuracy after iteration 67: 0.890707\n",
      "Cost after iteration 67: 0.913438\n",
      "Accuracy after iteration 68: 0.891717\n",
      "Cost after iteration 68: 0.907159\n",
      "Accuracy after iteration 69: 0.892727\n",
      "Cost after iteration 69: 0.900915\n",
      "Accuracy after iteration 70: 0.893939\n",
      "Cost after iteration 70: 0.894709\n",
      "Accuracy after iteration 71: 0.894141\n",
      "Cost after iteration 71: 0.888539\n",
      "Accuracy after iteration 72: 0.894141\n",
      "Cost after iteration 72: 0.882407\n",
      "Accuracy after iteration 73: 0.894949\n",
      "Cost after iteration 73: 0.876312\n",
      "Accuracy after iteration 74: 0.895758\n",
      "Cost after iteration 74: 0.870256\n",
      "Accuracy after iteration 75: 0.897778\n",
      "Cost after iteration 75: 0.864239\n",
      "Accuracy after iteration 76: 0.897778\n",
      "Cost after iteration 76: 0.858261\n",
      "Accuracy after iteration 77: 0.898182\n",
      "Cost after iteration 77: 0.852322\n",
      "Accuracy after iteration 78: 0.898990\n",
      "Cost after iteration 78: 0.846423\n",
      "Accuracy after iteration 79: 0.900202\n",
      "Cost after iteration 79: 0.840564\n",
      "Accuracy after iteration 80: 0.900808\n",
      "Cost after iteration 80: 0.834746\n",
      "Accuracy after iteration 81: 0.901818\n",
      "Cost after iteration 81: 0.828968\n",
      "Accuracy after iteration 82: 0.902424\n",
      "Cost after iteration 82: 0.823231\n",
      "Accuracy after iteration 83: 0.902828\n",
      "Cost after iteration 83: 0.817536\n",
      "Accuracy after iteration 84: 0.903636\n",
      "Cost after iteration 84: 0.811882\n",
      "Accuracy after iteration 85: 0.904646\n",
      "Cost after iteration 85: 0.806269\n",
      "Accuracy after iteration 86: 0.905051\n",
      "Cost after iteration 86: 0.800698\n",
      "Accuracy after iteration 87: 0.905455\n",
      "Cost after iteration 87: 0.795169\n",
      "Accuracy after iteration 88: 0.905657\n",
      "Cost after iteration 88: 0.789682\n",
      "Accuracy after iteration 89: 0.906465\n",
      "Cost after iteration 89: 0.784238\n",
      "Accuracy after iteration 90: 0.907071\n",
      "Cost after iteration 90: 0.778835\n",
      "Accuracy after iteration 91: 0.907273\n",
      "Cost after iteration 91: 0.773476\n",
      "Accuracy after iteration 92: 0.908687\n",
      "Cost after iteration 92: 0.768158\n",
      "Accuracy after iteration 93: 0.908687\n",
      "Cost after iteration 93: 0.762883\n",
      "Accuracy after iteration 94: 0.909091\n",
      "Cost after iteration 94: 0.757651\n",
      "Accuracy after iteration 95: 0.909899\n",
      "Cost after iteration 95: 0.752462\n",
      "Accuracy after iteration 96: 0.909495\n",
      "Cost after iteration 96: 0.747315\n",
      "Accuracy after iteration 97: 0.910101\n",
      "Cost after iteration 97: 0.742211\n",
      "Accuracy after iteration 98: 0.910303\n",
      "Cost after iteration 98: 0.737149\n",
      "Accuracy after iteration 99: 0.910909\n",
      "Cost after iteration 99: 0.732130\n",
      "Accuracy after iteration 100: 0.911111\n",
      "Cost after iteration 100: 0.727154\n",
      "Accuracy after iteration 101: 0.911111\n",
      "Cost after iteration 101: 0.722220\n",
      "Accuracy after iteration 102: 0.911313\n",
      "Cost after iteration 102: 0.717329\n",
      "Accuracy after iteration 103: 0.911717\n",
      "Cost after iteration 103: 0.712480\n",
      "Accuracy after iteration 104: 0.911717\n",
      "Cost after iteration 104: 0.707674\n",
      "Accuracy after iteration 105: 0.912121\n",
      "Cost after iteration 105: 0.702909\n",
      "Accuracy after iteration 106: 0.912525\n",
      "Cost after iteration 106: 0.698187\n",
      "Accuracy after iteration 107: 0.912727\n",
      "Cost after iteration 107: 0.693507\n",
      "Accuracy after iteration 108: 0.913333\n",
      "Cost after iteration 108: 0.688869\n",
      "Accuracy after iteration 109: 0.914141\n",
      "Cost after iteration 109: 0.684272\n",
      "Accuracy after iteration 110: 0.914343\n",
      "Cost after iteration 110: 0.679717\n",
      "Accuracy after iteration 111: 0.914545\n",
      "Cost after iteration 111: 0.675204\n",
      "Accuracy after iteration 112: 0.914747\n",
      "Cost after iteration 112: 0.670732\n",
      "Accuracy after iteration 113: 0.915354\n",
      "Cost after iteration 113: 0.666301\n",
      "Accuracy after iteration 114: 0.915354\n",
      "Cost after iteration 114: 0.661911\n",
      "Accuracy after iteration 115: 0.915556\n",
      "Cost after iteration 115: 0.657561\n",
      "Accuracy after iteration 116: 0.915960\n",
      "Cost after iteration 116: 0.653252\n",
      "Accuracy after iteration 117: 0.916162\n",
      "Cost after iteration 117: 0.648984\n",
      "Accuracy after iteration 118: 0.916364\n",
      "Cost after iteration 118: 0.644756\n",
      "Accuracy after iteration 119: 0.916364\n",
      "Cost after iteration 119: 0.640567\n",
      "Accuracy after iteration 120: 0.916566\n",
      "Cost after iteration 120: 0.636418\n",
      "Accuracy after iteration 121: 0.916970\n",
      "Cost after iteration 121: 0.632309\n",
      "Accuracy after iteration 122: 0.917172\n",
      "Cost after iteration 122: 0.628239\n",
      "Accuracy after iteration 123: 0.917576\n",
      "Cost after iteration 123: 0.624208\n",
      "Accuracy after iteration 124: 0.917778\n",
      "Cost after iteration 124: 0.620216\n",
      "Accuracy after iteration 125: 0.917778\n",
      "Cost after iteration 125: 0.616263\n",
      "Accuracy after iteration 126: 0.917778\n",
      "Cost after iteration 126: 0.612347\n",
      "Accuracy after iteration 127: 0.918384\n",
      "Cost after iteration 127: 0.608470\n",
      "Accuracy after iteration 128: 0.918586\n",
      "Cost after iteration 128: 0.604631\n",
      "Accuracy after iteration 129: 0.918586\n",
      "Cost after iteration 129: 0.600829\n",
      "Accuracy after iteration 130: 0.918586\n",
      "Cost after iteration 130: 0.597064\n",
      "Accuracy after iteration 131: 0.919192\n",
      "Cost after iteration 131: 0.593336\n",
      "Accuracy after iteration 132: 0.919192\n",
      "Cost after iteration 132: 0.589645\n",
      "Accuracy after iteration 133: 0.919192\n",
      "Cost after iteration 133: 0.585991\n",
      "Accuracy after iteration 134: 0.919192\n",
      "Cost after iteration 134: 0.582372\n",
      "Accuracy after iteration 135: 0.919596\n",
      "Cost after iteration 135: 0.578790\n",
      "Accuracy after iteration 136: 0.920404\n",
      "Cost after iteration 136: 0.575243\n",
      "Accuracy after iteration 137: 0.920606\n",
      "Cost after iteration 137: 0.571731\n",
      "Accuracy after iteration 138: 0.920808\n",
      "Cost after iteration 138: 0.568255\n",
      "Accuracy after iteration 139: 0.921818\n",
      "Cost after iteration 139: 0.564813\n",
      "Accuracy after iteration 140: 0.922020\n",
      "Cost after iteration 140: 0.561406\n",
      "Accuracy after iteration 141: 0.922424\n",
      "Cost after iteration 141: 0.558032\n",
      "Accuracy after iteration 142: 0.923232\n",
      "Cost after iteration 142: 0.554693\n",
      "Accuracy after iteration 143: 0.923434\n",
      "Cost after iteration 143: 0.551388\n",
      "Accuracy after iteration 144: 0.923434\n",
      "Cost after iteration 144: 0.548115\n",
      "Accuracy after iteration 145: 0.923636\n",
      "Cost after iteration 145: 0.544876\n",
      "Accuracy after iteration 146: 0.923636\n",
      "Cost after iteration 146: 0.541669\n",
      "Accuracy after iteration 147: 0.924646\n",
      "Cost after iteration 147: 0.538495\n",
      "Accuracy after iteration 148: 0.925455\n",
      "Cost after iteration 148: 0.535353\n",
      "Accuracy after iteration 149: 0.925859\n",
      "Cost after iteration 149: 0.532243\n",
      "Accuracy after iteration 150: 0.926263\n",
      "Cost after iteration 150: 0.529164\n",
      "Accuracy after iteration 151: 0.926667\n",
      "Cost after iteration 151: 0.526116\n",
      "Accuracy after iteration 152: 0.926869\n",
      "Cost after iteration 152: 0.523100\n",
      "Accuracy after iteration 153: 0.926869\n",
      "Cost after iteration 153: 0.520114\n",
      "Accuracy after iteration 154: 0.927273\n",
      "Cost after iteration 154: 0.517158\n",
      "Accuracy after iteration 155: 0.927475\n",
      "Cost after iteration 155: 0.514233\n",
      "Accuracy after iteration 156: 0.927475\n",
      "Cost after iteration 156: 0.511337\n",
      "Accuracy after iteration 157: 0.927475\n",
      "Cost after iteration 157: 0.508471\n",
      "Accuracy after iteration 158: 0.927475\n",
      "Cost after iteration 158: 0.505634\n",
      "Accuracy after iteration 159: 0.927475\n",
      "Cost after iteration 159: 0.502826\n",
      "Accuracy after iteration 160: 0.927475\n",
      "Cost after iteration 160: 0.500046\n",
      "Accuracy after iteration 161: 0.927475\n",
      "Cost after iteration 161: 0.497295\n",
      "Accuracy after iteration 162: 0.927475\n",
      "Cost after iteration 162: 0.494572\n",
      "Accuracy after iteration 163: 0.927879\n",
      "Cost after iteration 163: 0.491876\n",
      "Accuracy after iteration 164: 0.928485\n",
      "Cost after iteration 164: 0.489208\n",
      "Accuracy after iteration 165: 0.928485\n",
      "Cost after iteration 165: 0.486567\n",
      "Accuracy after iteration 166: 0.928485\n",
      "Cost after iteration 166: 0.483953\n",
      "Accuracy after iteration 167: 0.929091\n",
      "Cost after iteration 167: 0.481365\n",
      "Accuracy after iteration 168: 0.929091\n",
      "Cost after iteration 168: 0.478804\n",
      "Accuracy after iteration 169: 0.929091\n",
      "Cost after iteration 169: 0.476269\n",
      "Accuracy after iteration 170: 0.929091\n",
      "Cost after iteration 170: 0.473760\n",
      "Accuracy after iteration 171: 0.929495\n",
      "Cost after iteration 171: 0.471276\n",
      "Accuracy after iteration 172: 0.929495\n",
      "Cost after iteration 172: 0.468817\n",
      "Accuracy after iteration 173: 0.929697\n",
      "Cost after iteration 173: 0.466383\n",
      "Accuracy after iteration 174: 0.929697\n",
      "Cost after iteration 174: 0.463974\n",
      "Accuracy after iteration 175: 0.930101\n",
      "Cost after iteration 175: 0.461589\n",
      "Accuracy after iteration 176: 0.930303\n",
      "Cost after iteration 176: 0.459228\n",
      "Accuracy after iteration 177: 0.930303\n",
      "Cost after iteration 177: 0.456892\n",
      "Accuracy after iteration 178: 0.930303\n",
      "Cost after iteration 178: 0.454578\n",
      "Accuracy after iteration 179: 0.930303\n",
      "Cost after iteration 179: 0.452289\n",
      "Accuracy after iteration 180: 0.930303\n",
      "Cost after iteration 180: 0.450022\n"
     ]
    }
   ],
   "source": [
    "parameters, accuracy_matrix, loss_matrix = model(train_data, train_labels, 45, num_iterations=180)"
   ]
  },
  {
   "cell_type": "markdown",
   "metadata": {
    "id": "19MRGyXGHxDw"
   },
   "source": [
    " here we can observe that with every iteration accuracy is increasing and cost of function is decreasing "
   ]
  },
  {
   "cell_type": "markdown",
   "metadata": {
    "id": "uoD3h3UpTPrl"
   },
   "source": [
    "#### Visualizing Accuracy vs epochs"
   ]
  },
  {
   "cell_type": "code",
   "execution_count": 20,
   "metadata": {
    "colab": {
     "base_uri": "https://localhost:8080/",
     "height": 279
    },
    "id": "Dh9c4mxqTPrl",
    "outputId": "640e3b43-c756-4b71-9d3d-9c0ff0cbc981"
   },
   "outputs": [
    {
     "data": {
      "image/png": "[encoded data removed]",
      "text/plain": [
       "<Figure size 432x288 with 1 Axes>"
      ]
     },
     "metadata": {
      "needs_background": "light"
     },
     "output_type": "display_data"
    }
   ],
   "source": [
    "plt.plot(range(0,181), accuracy_matrix)\n",
    "plt.xlabel('Epochs')\n",
    "plt.ylabel('Accuracy')\n",
    "plt.show()"
   ]
  },
  {
   "cell_type": "markdown",
   "metadata": {},
   "source": [
    "#### Visualizing the Loss (cross-entropy) vs epochs"
   ]
  },
  {
   "cell_type": "code",
   "execution_count": 21,
   "metadata": {},
   "outputs": [
    {
     "data": {
      "image/png": "[encoded data removed]",
      "text/plain": [
       "<Figure size 432x288 with 1 Axes>"
      ]
     },
     "metadata": {
      "needs_background": "light"
     },
     "output_type": "display_data"
    }
   ],
   "source": [
    "plt.plot(range(0,181), loss_matrix)\n",
    "plt.xlabel('Epochs')\n",
    "plt.ylabel('Loss')\n",
    "plt.show()"
   ]
  },
  {
   "cell_type": "markdown",
   "metadata": {
    "id": "sdtbLSg_HxDx"
   },
   "source": [
    "It is observed that the accuracy increases exponenttially initially before gradually the curve becoming less steep . It plateaus at 93 percent around 175 epochs \n",
    "\n",
    "The loss function exponentially decreases with increasing number of epochs "
   ]
  },
  {
   "cell_type": "markdown",
   "metadata": {
    "id": "jHDjO3fZTPrl"
   },
   "source": [
    "### Saving Weights to pickle file"
   ]
  },
  {
   "cell_type": "code",
   "execution_count": 22,
   "metadata": {
    "id": "Aa1aRyrqTPrl"
   },
   "outputs": [],
   "source": [
    "file = open('weights', 'wb+')\n",
    "pickle.dump(parameters, file)\n",
    "file.close()"
   ]
  },
  {
   "cell_type": "code",
   "execution_count": null,
   "metadata": {},
   "outputs": [],
   "source": []
  },
  {
   "cell_type": "markdown",
   "metadata": {},
   "source": [
    "## References - "
   ]
  },
  {
   "cell_type": "markdown",
   "metadata": {},
   "source": [
    "1. https://towardsdatascience.com/understanding-backpropagation-algorithm-7bb3aa2f95fd\n",
    "2. https://mmuratarat.github.io/2019-02-25/xavier-glorot-he-weight-init"
   ]
  }
 ],
 "metadata": {
  "colab": {
   "collapsed_sections": [],
   "name": "Q4rev (2).ipynb",
   "provenance": []
  },
  "kernelspec": {
   "display_name": "Python 3 (ipykernel)",
   "language": "python",
   "name": "python3"
  },
  "language_info": {
   "codemirror_mode": {
    "name": "ipython",
    "version": 3
   },
   "file_extension": ".py",
   "mimetype": "text/x-python",
   "name": "python",
   "nbconvert_exporter": "python",
   "pygments_lexer": "ipython3",
   "version": "3.9.10"
  }
 },
 "nbformat": 4,
 "nbformat_minor": 1
}
